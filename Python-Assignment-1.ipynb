{
 "cells": [
  {
   "cell_type": "raw",
   "id": "d4f425fd",
   "metadata": {},
   "source": [
    "# 1. In the below elements which of them are values or an expression? eg:- values can be\n",
    "integer or string and expressions will be mathematical operators.\n",
    "*\n",
    "&#39;hello&#39;\n",
    "-87.8\n",
    "-\n",
    "/\n",
    "+\n",
    "6"
   ]
  },
  {
   "cell_type": "raw",
   "id": "9cc695bd",
   "metadata": {},
   "source": [
    "#Ans1\n",
    "\n",
    "Following are the values: &#39;hello&#39;-87.8,6\n",
    "Following are the expressions: * - / +"
   ]
  },
  {
   "cell_type": "raw",
   "id": "41b9450a",
   "metadata": {},
   "source": [
    "2. What is the difference between string and variable?"
   ]
  },
  {
   "cell_type": "raw",
   "id": "a755f259",
   "metadata": {},
   "source": [
    "#Ans2: \n",
    "String: It is a character or number or any alphanumeric combination inside a \"\", and immutable\n",
    "variable: Any data type assigned to a particular instance"
   ]
  },
  {
   "cell_type": "raw",
   "id": "8bfc388d",
   "metadata": {},
   "source": [
    "3. Describe three different data types.\n",
    "# Ans 3: String, Numerical, Boolean"
   ]
  },
  {
   "cell_type": "raw",
   "id": "5b18d034",
   "metadata": {},
   "source": [
    "4. What is an expression made up of? What do all expressions do?\n",
    "#Ans 4: Expression is any combination of numbers, characters and others which when executed, returns the value or result which are stored in a variable\n",
    "example: Var_a= x+10: In this case x+10 is an expression and its value will be assigned to Var_a"
   ]
  },
  {
   "cell_type": "raw",
   "id": "3e56b406",
   "metadata": {},
   "source": [
    "\n",
    "5. This assignment statements, like spam = 10. What is the difference between an\n",
    "expression and a statement?\n",
    "#Ans 5: Expressions assigns value or results to a vairable, while Statement executes. For Ex: Print(x) is a statement, which a=x+10 is an expression\n"
   ]
  },
  {
   "cell_type": "raw",
   "id": "49702d53",
   "metadata": {},
   "source": [
    "6. After running the following code, what does the variable bacon contain?\n",
    "bacon = 22\n",
    "bacon + 1"
   ]
  },
  {
   "cell_type": "code",
   "execution_count": 2,
   "id": "39519486",
   "metadata": {},
   "outputs": [
    {
     "data": {
      "text/plain": [
       "23"
      ]
     },
     "execution_count": 2,
     "metadata": {},
     "output_type": "execute_result"
    }
   ],
   "source": [
    "# Ans: 6: \n",
    "bacon = 22\n",
    "bacon + 1"
   ]
  },
  {
   "cell_type": "raw",
   "id": "2f13f785",
   "metadata": {},
   "source": [
    "7. What should the values of the following two terms be?\n",
    "&#39;spam&#39; + &#39;spamspam&#39;\n",
    "&#39;spam&#39; * 3"
   ]
  },
  {
   "cell_type": "code",
   "execution_count": 5,
   "id": "563ff5d5",
   "metadata": {},
   "outputs": [
    {
     "ename": "SyntaxError",
     "evalue": "invalid syntax (<ipython-input-5-dfd5635c4a1b>, line 1)",
     "output_type": "error",
     "traceback": [
      "\u001b[1;36m  File \u001b[1;32m\"<ipython-input-5-dfd5635c4a1b>\"\u001b[1;36m, line \u001b[1;32m1\u001b[0m\n\u001b[1;33m    &#39;spam&#39 + &#39;spamspam&#39\u001b[0m\n\u001b[1;37m    ^\u001b[0m\n\u001b[1;31mSyntaxError\u001b[0m\u001b[1;31m:\u001b[0m invalid syntax\n"
     ]
    }
   ],
   "source": [
    "&#39;spam&#39 + &#39;spamspam&#39"
   ]
  },
  {
   "cell_type": "code",
   "execution_count": 6,
   "id": "abaae2e0",
   "metadata": {},
   "outputs": [
    {
     "ename": "SyntaxError",
     "evalue": "invalid syntax (<ipython-input-6-8f9872886f9a>, line 1)",
     "output_type": "error",
     "traceback": [
      "\u001b[1;36m  File \u001b[1;32m\"<ipython-input-6-8f9872886f9a>\"\u001b[1;36m, line \u001b[1;32m1\u001b[0m\n\u001b[1;33m    &#39;spam&#39; * 3\u001b[0m\n\u001b[1;37m    ^\u001b[0m\n\u001b[1;31mSyntaxError\u001b[0m\u001b[1;31m:\u001b[0m invalid syntax\n"
     ]
    }
   ],
   "source": [
    "&#39;spam&#39; * 3"
   ]
  },
  {
   "cell_type": "raw",
   "id": "55a20d20",
   "metadata": {},
   "source": [
    "8. Why is eggs a valid variable name while 100 is invalid?\n",
    "#Ans 8: The variable name starts with a character or any symbol, and not from any number"
   ]
  },
  {
   "cell_type": "raw",
   "id": "8ceaefb8",
   "metadata": {},
   "source": [
    "9. What three functions can be used to get the integer, floating-point number, or string\n",
    "version of a value?"
   ]
  },
  {
   "cell_type": "raw",
   "id": "c4e82e45",
   "metadata": {},
   "source": [
    "#Ans. 9:\n",
    "\n",
    "x= 10\n",
    "int(x), float(x), str(x)"
   ]
  },
  {
   "cell_type": "raw",
   "id": "3ce6bf02",
   "metadata": {},
   "source": [
    "10. Why does this expression cause an error? How can you fix it?\n",
    "&#39;I have eaten &#39; + 99 + &#39; burritos.&#39;\n",
    "\n",
    "#Ans. 10: There is an error because only strings can be concatenated. Using str(39), str(99), str(39), the problem can be resolved"
   ]
  },
  {
   "cell_type": "code",
   "execution_count": null,
   "id": "272b0202",
   "metadata": {},
   "outputs": [],
   "source": []
  }
 ],
 "metadata": {
  "kernelspec": {
   "display_name": "Python 3",
   "language": "python",
   "name": "python3"
  },
  "language_info": {
   "codemirror_mode": {
    "name": "ipython",
    "version": 3
   },
   "file_extension": ".py",
   "mimetype": "text/x-python",
   "name": "python",
   "nbconvert_exporter": "python",
   "pygments_lexer": "ipython3",
   "version": "3.8.8"
  }
 },
 "nbformat": 4,
 "nbformat_minor": 5
}
